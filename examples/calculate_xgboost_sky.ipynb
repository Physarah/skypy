{
 "cells": [
  {
   "cell_type": "code",
   "execution_count": 1,
   "metadata": {},
   "outputs": [
    {
     "name": "stderr",
     "output_type": "stream",
     "text": [
      "/anaconda3/envs/skypy/lib/python3.8/site-packages/xgboost/compat.py:36: FutureWarning: pandas.Int64Index is deprecated and will be removed from pandas in a future version. Use pandas.Index with the appropriate dtype instead.\n",
      "  from pandas import MultiIndex, Int64Index\n"
     ]
    }
   ],
   "source": [
    "from skypy.utils import load_config, package_directory\n",
    "from skypy.skymods.xgboost import XGBoostSkyModel\n",
    "import astropy.units as u\n",
    "import pandas as pd\n",
    "import numpy as np"
   ]
  },
  {
   "cell_type": "code",
   "execution_count": 2,
   "metadata": {},
   "outputs": [
    {
     "name": "stderr",
     "output_type": "stream",
     "text": [
      "/Users/physarah/Development/skypy/src/skypy/skymods/xgboost.py:38: DtypeWarning: Columns (37,38) have mixed types. Specify dtype option on import or set low_memory=False.\n",
      "  with_zodi_model = pd.read_csv(self.config['data_clean']['data_path'])\n",
      "2022-05-25 14:43:19.129 | INFO     | skypy.skymods.xgboost:__init__:61 - Not clipping data on the galatic plane\n",
      "2022-05-25 14:43:19.148 | INFO     | skypy.skymods.xgboost:__init__:92 - Not sigma clipping data\n",
      "2022-05-25 14:43:19.153 | INFO     | skypy.skymods.xgboost:train:144 - Using pre-calculated training data\n",
      "/anaconda3/envs/skypy/lib/python3.8/site-packages/xgboost/data.py:250: FutureWarning: pandas.Int64Index is deprecated and will be removed from pandas in a future version. Use pandas.Index with the appropriate dtype instead.\n",
      "  elif isinstance(data.columns, (pd.Int64Index, pd.RangeIndex)):\n"
     ]
    },
    {
     "name": "stdout",
     "output_type": "stream",
     "text": [
      "[14:43:19] WARNING: ../src/learner.cc:576: \n",
      "Parameters: { \"early_stopping_rounds\", \"verbose\" } might not be used.\n",
      "\n",
      "  This could be a false alarm, with some parameters getting used by language bindings but\n",
      "  then being mistakenly passed down to XGBoost core, or some parameter actually being used\n",
      "  but getting flagged wrongly here. Please open an issue if you find any such cases.\n",
      "\n",
      "\n"
     ]
    }
   ],
   "source": [
    "sky = XGBoostSkyModel()\n",
    "sky.prepare_training_data('F606W')\n",
    "sky.train()\n",
    "sky_value = sky.predict(type = 'field', \n",
    "                        exp_time = 1000, # seconds\n",
    "                        moon_angle = 80, # degrees\n",
    "                        limb_angle = 90, # degrees\n",
    "                        sun_alt = -10, # degrees\n",
    "                        sun_angle = 100, # degrees\n",
    "                        gal_lat = 70, # degrees\n",
    "                        gal_long = 30, # degrees\n",
    "                        n_samples = 200,\n",
    "                        average=True, plot=False,\n",
    "                        low_lim=0.3, high_lim=0.8)"
   ]
  },
  {
   "cell_type": "code",
   "execution_count": 3,
   "metadata": {},
   "outputs": [
    {
     "data": {
      "text/latex": [
       "$0.12784883 \\; \\mathrm{\\frac{MJy}{sr}}$"
      ],
      "text/plain": [
       "<Quantity 0.12784883 MJy / sr>"
      ]
     },
     "execution_count": 3,
     "metadata": {},
     "output_type": "execute_result"
    }
   ],
   "source": [
    "sky_value"
   ]
  },
  {
   "cell_type": "code",
   "execution_count": null,
   "metadata": {},
   "outputs": [],
   "source": []
  }
 ],
 "metadata": {
  "kernelspec": {
   "display_name": "Python 3 (ipykernel)",
   "language": "python",
   "name": "python3"
  },
  "language_info": {
   "codemirror_mode": {
    "name": "ipython",
    "version": 3
   },
   "file_extension": ".py",
   "mimetype": "text/x-python",
   "name": "python",
   "nbconvert_exporter": "python",
   "pygments_lexer": "ipython3",
   "version": "3.8.13"
  }
 },
 "nbformat": 4,
 "nbformat_minor": 4
}
