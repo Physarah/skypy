{
 "cells": [
  {
   "cell_type": "code",
   "execution_count": 1,
   "metadata": {},
   "outputs": [],
   "source": [
    "from skypy.utils import load_config, package_directory\n",
    "from skypy.skymods.xgboost import XGBoostSkyModel\n",
    "import astropy.units as u\n",
    "import pandas as pd\n",
    "import numpy as np"
   ]
  },
  {
   "cell_type": "code",
   "execution_count": 3,
   "metadata": {},
   "outputs": [
    {
     "name": "stderr",
     "output_type": "stream",
     "text": [
      "/anaconda3/envs/earthwatch/lib/python3.7/site-packages/ipykernel_launcher.py:1: DtypeWarning: Columns (37,38) have mixed types.Specify dtype option on import or set low_memory=False.\n",
      "  \"\"\"Entry point for launching an IPython kernel.\n",
      "2022-05-19 16:46:19.763 | INFO     | skypy.skymods.xgboost:__init__:62 - Not clipping data on the galatic plane\n",
      "2022-05-19 16:46:19.778 | INFO     | skypy.skymods.xgboost:__init__:93 - Not sigma clipping data\n",
      "2022-05-19 16:46:19.809 | INFO     | skypy.skymods.xgboost:train:145 - Using pre-calculated training data\n"
     ]
    },
    {
     "name": "stdout",
     "output_type": "stream",
     "text": [
      "[16:46:19] WARNING: /Users/travis/build/dmlc/xgboost/src/learner.cc:541: \n",
      "Parameters: { early_stopping_rounds, verbose } might not be used.\n",
      "\n",
      "  This may not be accurate due to some parameters are only used in language bindings but\n",
      "  passed down to XGBoost core.  Or some parameters are not used but slip through this\n",
      "  verification. Please open an issue if you find above cases.\n",
      "\n",
      "\n"
     ]
    }
   ],
   "source": [
    "sky = XGBoostSkyModel()\n",
    "sky.prepare_training_data('F606W')\n",
    "sky.train()\n",
    "sky_value = sky.predict(type = 'field', \n",
    "                        exp_time = 1000, # seconds\n",
    "                        moon_angle = 80, # degrees\n",
    "                        limb_angle = 90, # degrees\n",
    "                        sun_alt = -10, # degrees\n",
    "                        sun_angle = 100, # degrees\n",
    "                        gal_lat = 70, # degrees\n",
    "                        gal_long = 30, # degrees\n",
    "                        n_samples = 200,\n",
    "                        average=True, plot=False,\n",
    "                        low_lim=0.3, high_lim=0.8)"
   ]
  },
  {
   "cell_type": "code",
   "execution_count": 4,
   "metadata": {},
   "outputs": [
    {
     "data": {
      "text/latex": [
       "$0.12784883 \\; \\mathrm{\\frac{MJy}{sr}}$"
      ],
      "text/plain": [
       "<Quantity 0.12784883 MJy / sr>"
      ]
     },
     "execution_count": 4,
     "metadata": {},
     "output_type": "execute_result"
    }
   ],
   "source": [
    "sky_value"
   ]
  }
 ],
 "metadata": {
  "kernelspec": {
   "display_name": "Python 3",
   "language": "python",
   "name": "python3"
  },
  "language_info": {
   "codemirror_mode": {
    "name": "ipython",
    "version": 3
   },
   "file_extension": ".py",
   "mimetype": "text/x-python",
   "name": "python",
   "nbconvert_exporter": "python",
   "pygments_lexer": "ipython3",
   "version": "3.7.6"
  }
 },
 "nbformat": 4,
 "nbformat_minor": 4
}
