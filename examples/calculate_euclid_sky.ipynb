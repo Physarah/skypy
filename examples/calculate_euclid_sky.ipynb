{
 "cells": [
  {
   "cell_type": "code",
   "execution_count": 1,
   "metadata": {},
   "outputs": [],
   "source": [
    "import pytest\n",
    "import datetime\n",
    "import astropy.units as u\n",
    "from astropy.coordinates import SkyCoord\n",
    "from skypy.skymods.euclid import EuclidSkyModel"
   ]
  },
  {
   "cell_type": "code",
   "execution_count": 2,
   "metadata": {},
   "outputs": [],
   "source": [
    "model = EuclidSkyModel(coordinates=SkyCoord('0h39m15.9s', '0d53m17.016s', frame='icrs'),\n",
    "                       wavelength=200*u.micron,\n",
    "                       date=datetime.datetime(2019, 4, 13),\n",
    "                       observing_location='L2',\n",
    "                       code_version='Wright',\n",
    "                       median=True)"
   ]
  },
  {
   "cell_type": "code",
   "execution_count": 3,
   "metadata": {},
   "outputs": [
    {
     "data": {
      "text/latex": [
       "$12.55276 \\; \\mathrm{\\frac{MJy}{sr}}$"
      ],
      "text/plain": [
       "<Quantity 12.55276 MJy / sr>"
      ]
     },
     "execution_count": 3,
     "metadata": {},
     "output_type": "execute_result"
    }
   ],
   "source": [
    "model.zodiacal_light"
   ]
  }
 ],
 "metadata": {
  "kernelspec": {
   "display_name": "Python 3",
   "language": "python",
   "name": "python3"
  },
  "language_info": {
   "codemirror_mode": {
    "name": "ipython",
    "version": 3
   },
   "file_extension": ".py",
   "mimetype": "text/x-python",
   "name": "python",
   "nbconvert_exporter": "python",
   "pygments_lexer": "ipython3",
   "version": "3.7.6"
  }
 },
 "nbformat": 4,
 "nbformat_minor": 4
}
